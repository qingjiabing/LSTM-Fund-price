{
 "cells": [
  {
   "cell_type": "code",
   "execution_count": 2,
   "id": "8eafa3e0",
   "metadata": {},
   "outputs": [],
   "source": [
    "import tushare as ts\n",
    "import numpy as np\n",
    "import pandas as pd\n",
    "import matplotlib.pyplot as plt\n",
    "#import Keras\n",
    "import keras\n",
    "from keras.layers import Dense\n",
    "from keras.models import Sequential\n",
    "#from keras.optimizers import Adam \n",
    "from keras.callbacks import EarlyStopping\n",
    "from keras.utils import np_utils\n",
    "from keras.layers import LSTM\n",
    "from sklearn.model_selection import KFold, cross_val_score, train_test_split\n",
    "import math\n",
    "from tensorflow.keras import layers\n",
    "from tensorflow.keras.optimizers import RMSprop\n",
    "from sklearn.preprocessing import MinMaxScaler\n",
    "import sklearn.metrics as skm\n",
    "from keras.models import load_model\n",
    "import tensorflow\n",
    "from matplotlib.pylab import mpl\n",
    "pro = ts.pro_api('e6cde7f6165daeaa49d539e2de4b4725944d64c70e1685e563eaebe8')"
   ]
  },
  {
   "cell_type": "code",
   "execution_count": 3,
   "id": "ece6f652",
   "metadata": {},
   "outputs": [],
   "source": [
    "plt.rcParams['font.sans-serif'] = ['Microsoft JhengHei']\n",
    "plt.rcParams['axes.unicode_minus'] = False"
   ]
  },
  {
   "cell_type": "code",
   "execution_count": 6,
   "id": "5f52794c",
   "metadata": {},
   "outputs": [],
   "source": [
    "# df=ts.get_k_data(\"512000\",start='2020-01-01',ktype='d')\n",
    "# df\n",
    "# 拉取数据\n",
    "def get_funds_data(code):    \n",
    "    df = pro.fund_daily(**{\n",
    "        \"trade_date\": \"\",\n",
    "        \"start_date\":20180101,\n",
    "        \"end_date\": \"\",\n",
    "        \"ts_code\": code,\n",
    "        \"limit\": \"\",\n",
    "        \"offset\": \"\"\n",
    "    }, fields=[\n",
    "        \"ts_code\",\n",
    "        \"trade_date\",\n",
    "        \"pre_close\",\n",
    "        \"open\",\n",
    "        \"high\",\n",
    "        \"low\",\n",
    "        \"close\",\n",
    "        \"change\",\n",
    "        \"pct_chg\",\n",
    "        \"vol\",\n",
    "        \"amount\"\n",
    "    ])\n",
    "    return df\n",
    "\n",
    "df=get_funds_data(\"159804.SZ\")\n",
    "df=df.sort_values('trade_date')\n",
    "close= np.array((df['close']))\n",
    "close=close.reshape(676,1)\n",
    "print(close.shape)"
   ]
  },
  {
   "cell_type": "code",
   "execution_count": 60,
   "id": "f50a918d",
   "metadata": {},
   "outputs": [],
   "source": [
    "df=pd.read_excel('512660.xls')\n",
    "#close=df['收盘价(元)']\n",
    "close= np.array((df['收盘价(元)']))\n",
    "close=close.reshape(len(close),1)"
   ]
  },
  {
   "cell_type": "code",
   "execution_count": null,
   "id": "fa74f281",
   "metadata": {},
   "outputs": [],
   "source": [
    "df"
   ]
  },
 
  {
   "cell_type": "code",
   "execution_count": 61,
   "id": "03c0b4b0",
   "metadata": {},
   "outputs": [],
   "source": [
    "scaler = MinMaxScaler(feature_range=(0, 1)).fit(close)\n",
    "close=pd.DataFrame(scaler.fit_transform(close))"
   ]
  },
  {
   "cell_type": "code",
   "execution_count": 62,
   "id": "a8ec2862",
   "metadata": {},
   "outputs": [
    {
     "name": "stdout",
     "output_type": "stream",
     "text": [
      "(1577, 1, 1) (25, 1, 1)\n"
     ]
    }
   ],
   "source": [
    "def split_dataset(data):\n",
    "    '''\n",
    "    该函数实现以一天为单位切分训练数据和测试数据\n",
    "    测试集取最后一年的25天数据，剩下的数据为训练集，以下的切片实现此功能。\n",
    "    '''\n",
    "    train, test = data[0:-25], data[-25:]\n",
    "    train = np.array(np.split(train, len(train)/1)) # 将数据划分为按1天为单位的数据\n",
    "    test = np.array(np.split(test, len(test)/1))\n",
    "    return train, test\n",
    "train,test=split_dataset(close)\n",
    "print(train.shape,test.shape)\n"
   ]
  },
  {
   "cell_type": "raw",
   "id": "da19b4f6",
   "metadata": {},
   "source": [
    "# 增加数据样本"
   ]
  },
  {
   "cell_type": "code",
   "execution_count": 63,
   "id": "29f5951e",
   "metadata": {},
   "outputs": [
    {
     "name": "stdout",
     "output_type": "stream",
     "text": [
      "(1577, 1)\n"
     ]
    }
   ],
   "source": [
    "def sliding_window(train, sw_width=1, n_out=1, in_start=0):\n",
    "    '''\n",
    "     该函数实现窗口宽度为1、滑动步长为1的滑动窗口截取序列数据\n",
    "    '''\n",
    "    data = train.reshape((train.shape[0] * train.shape[1], train.shape[2])) # 将以周为单位的样本展平为以一周为单位的序列\n",
    "    #data=train\n",
    "    print(data.shape)\n",
    "    X, y = [], []\n",
    "    \n",
    "    for _ in range(len(data)):\n",
    "        in_end = in_start + sw_width\n",
    "        out_end = in_end + n_out\n",
    "        \n",
    "        # 保证截取样本完整，最大元素索引不超过原序列索引，则截取数据；否则丢弃该样本\n",
    "        if out_end < len(data):\n",
    "            # 训练数据以滑动步长1截取\n",
    "            X.append(data[in_start:in_end, :])\n",
    "            y.append(data[in_end:out_end, 0])\n",
    "        in_start += 1\n",
    "        \n",
    "    return np.array(X), np.array(y)\n",
    "trian_1,test_1=sliding_window(train,1,1,in_start=0)"
   ]
  },
  {
   "cell_type": "code",
   "execution_count": 64,
   "id": "6f80c155",
   "metadata": {},
   "outputs": [],
   "source": [
    "def lstm_model(train, sw_width, in_start, verbose_set=0, epochs_num=20, batch_size_set=4):\n",
    "    '''\n",
    "    该函数定义 LSTM 模型\n",
    "    单变量\n",
    "    '''\n",
    "    train_x, train_y = sliding_window(train, sw_width, in_start=in_start)\n",
    "    n_timesteps, n_features, n_outputs = train_x.shape[1], train_x.shape[2], train_y.shape[1]\n",
    "\n",
    "    model = Sequential()\n",
    "    model.add(LSTM(256, activation='relu', input_shape=(n_timesteps, n_features), return_sequences=True))\n",
    "    model.add(layers.Dropout(0.5))\n",
    "    model.add(Dense(32, activation='relu'))\n",
    "    model.add(Dense(n_outputs, activation='linear'))\n",
    "    model.compile(loss='mse', optimizer='adam', metrics=['accuracy'])\n",
    "#     print(model.summary())\n",
    "    model.fit(train_x, train_y,\n",
    "              epochs=epochs_num, batch_size=batch_size_set, verbose=verbose_set)\n",
    "    return model"
   ]
  },
  {
   "cell_type": "code",
   "execution_count": 65,
   "id": "426fe513",
   "metadata": {},
   "outputs": [],
   "source": [
    "def forecast(model, pred_seq, sw_width):\n",
    "    '''\n",
    "    该函数实现对输入数据的预测\n",
    "    '''\n",
    "    data = np.array(pred_seq)\n",
    "    data = data.reshape((data.shape[0]*data.shape[1], data.shape[2]))\n",
    "    \n",
    "    input_x = data[-sw_width:, 0] # 获取输入数据的最后一周的数据\n",
    "    input_x = input_x.reshape((1, len(input_x), 1)) # 重塑形状[1, sw_width, 1]\n",
    "    \n",
    "    yhat = model.predict(input_x, verbose=0) # 预测下周数据\n",
    "    yhat = yhat[0] # 获取预测向量\n",
    "    return yhat\n",
    "\n",
    "def evaluate_model(model, train, test, sd_width):\n",
    "    '''\n",
    "    该函数实现模型评估\n",
    "    '''\n",
    "    history_fore = [x for x in train]\n",
    "    predictions = list() # 用于保存每周的前向验证结果；\n",
    "    for i in range(len(test)):\n",
    "        yhat_sequence = forecast(model, history_fore, sd_width) # 预测下周的数据\n",
    "        predictions.append(yhat_sequence) # 保存预测结果\n",
    "        history_fore.append(test[i, :]) # 得到真实的观察结果并添加到历史中以预测下周\n",
    "    \n",
    "    predictions = np.array(predictions) # 评估一周中每天的预测结果\n",
    "    score, scores = evaluate_forecasts(test[:, :, 0], predictions)\n",
    "    return score, scores,predictions\n",
    "def evaluate_forecasts(actual, predicted):\n",
    "    '''\n",
    "    该函数实现根据预期值评估一个或多个周预测损失\n",
    "    思路：统计所有单日预测的 RMSE\n",
    "    '''\n",
    "    scores = list()\n",
    "    print(actual.shape[1])\n",
    "    for i in range(actual.shape[1]):\n",
    "        mse = skm.mean_squared_error(actual[:, i], predicted[:, i])\n",
    "        rmse = math.sqrt(mse)\n",
    "        scores.append(rmse)\n",
    "    \n",
    "    s = 0 # 计算总的 RMSE\n",
    "    for row in range(actual.shape[0]):\n",
    "        for col in range(actual.shape[1]):\n",
    "            s += (actual[row, col] - predicted[row, col]) ** 2\n",
    "    score = math.sqrt(s / (actual.shape[0] * actual.shape[1]))\n",
    "    print('actual.shape[0]:{}, actual.shape[1]:{}'.format(actual.shape[0], actual.shape[1]))\n",
    "    return score, scores"
   ]
  },
  {
   "cell_type": "code",
   "execution_count": 66,
   "id": "d6a58f68",
   "metadata": {},
   "outputs": [
    {
     "name": "stdout",
     "output_type": "stream",
     "text": [
      "(1577, 1)\n",
      "1\n",
      "actual.shape[0]:25, actual.shape[1]:1\n"
     ]
    }
   ],
   "source": [
    "# 划分训练集和测试集\n",
    "train, test = split_dataset(close)\n",
    "# 训练模型\n",
    "sw_width=1\n",
    "in_start=0\n",
    "model = lstm_model(train, sw_width, in_start, verbose_set=0, epochs_num=20, batch_size_set=4)\n",
    "# 计算RMSE\n",
    "score, scores,pre = evaluate_model(model, train, test, sw_width)\n",
    "# 打印分数\n",
    "#summarize_scores(name, score, scores)\n",
    "# 绘图\n",
    "#model_plot(score, scores, days, name)\n"
   ]
  },
  {
   "cell_type": "code",
   "execution_count": 67,
   "id": "897eda99",
   "metadata": {},
   "outputs": [
    {
     "name": "stdout",
     "output_type": "stream",
     "text": [
      "MAPE:1.68%\n",
      "RMSE0.0208\n",
      "MSE0.0004\n"
     ]
    }
   ],
   "source": [
    "MAPE = skm.mean_absolute_percentage_error(b, c)\n",
    "MSE = skm.mean_squared_error(b, c)\n",
    "RMSE = skm.mean_squared_error(b,c,squared=False)\n",
    "print(\"MAPE:\"+str(round(MAPE,4)*100)+\"%\")\n",
    "print(\"RMSE\"+str(round(RMSE,4)))\n",
    "print(\"MSE\"+str(round(MSE,4)))"
   ]
  },
  {
   "cell_type": "code",
   "execution_count": 68,
   "id": "21c19f06",
   "metadata": {},
   "outputs": [],
   "source": [
    "b=test.reshape(25,1)\n",
    "c=pre.reshape(25,1)\n",
    "b=scaler.inverse_transform(b)\n",
    "c=scaler.inverse_transform(c)\n",
    "b=b[:,-1]\n",
    "c=c[:,-1]"
   ]
  },
  {
   "cell_type": "code",
   "execution_count": 69,
   "id": "0a6d3e0e",
   "metadata": {},
   "outputs": [
    {
     "data": {
      "image/png": "[encoded data removed]",
      "text/plain": [
       "<Figure size 1080x432 with 1 Axes>"
      ]
     },
     "metadata": {
      "needs_background": "light"
     },
     "output_type": "display_data"
    }
   ],
   "source": [
    "plt.figure(figsize=(15,6))\n",
    "bwith = 0.75 #边框宽度设置为2\n",
    "ax = plt.gca()#获取边框\n",
    "ax.spines['bottom'].set_linewidth(bwith)\n",
    "ax.spines['left'].set_linewidth(bwith)\n",
    "ax.spines['top'].set_linewidth(bwith)\n",
    "ax.spines['right'].set_linewidth(bwith)\n",
    "plt.plot(c,label='real_predict')\n",
    "plt.plot(b,label='real_y')\n",
    "#plt.plot(real_y*(1+0.15),label='15%上限',linestyle='--',color='green')\n",
    "#plt.plot(b*(1+0.1),label='10%上限',linestyle='--')\n",
    "#plt.plot(b*(1-0.1),label='10%下限',linestyle='--')\n",
    "#plt.plot(real_y*(1-0.15),label='15%下限',linestyle='--',color='green')\n",
    "#plt.fill_between(range(0,12),b*(1+0.15),b*(1-0.15),color='gray',alpha=0.2)\n",
    "plt.legend()\n",
    "plt.show()"
   ]
  },
  {
   "cell_type": "code",
   "execution_count": 17,
   "id": "053b20ad",
   "metadata": {},
   "outputs": [],
   "source": [
    "b=scaler.inverse_transform(b)\n",
    "c=scaler.inverse_transform(c)\n",
    "b=b[:,-1]\n",
    "c=c[:,-1]"
   ]
  },
  {
   "cell_type": "code",
   "execution_count": 18,
   "id": "8c7fb063",
   "metadata": {},
   "outputs": [
    {
     "data": {
      "text/plain": [
       "array([1.189, 1.189, 1.22 , 1.219, 1.235, 1.227, 1.24 , 1.213, 1.188,\n",
       "       1.205, 1.209, 1.21 , 1.199, 1.198, 1.185, 1.199, 1.219, 1.22 ,\n",
       "       1.217, 1.219, 1.189, 1.206, 1.211, 1.206, 1.209])"
      ]
     },
     "execution_count": 18,
     "metadata": {},
     "output_type": "execute_result"
    }
   ],
   "source": [
    "b"
   ]
  },
  {
   "cell_type": "code",
   "execution_count": null,
   "id": "22b26668",
   "metadata": {},
   "outputs": [],
   "source": []
  }
 ],
 "metadata": {
  "kernelspec": {
   "display_name": "Python 3 (ipykernel)",
   "language": "python",
   "name": "python3"
  },
  "language_info": {
   "codemirror_mode": {
    "name": "ipython",
    "version": 3
   },
   "file_extension": ".py",
   "mimetype": "text/x-python",
   "name": "python",
   "nbconvert_exporter": "python",
   "pygments_lexer": "ipython3",
   "version": "3.9.7"
  }
 },
 "nbformat": 4,
 "nbformat_minor": 5
}
