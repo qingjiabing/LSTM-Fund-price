{
 "cells": [
  {
   "cell_type": "code",
   "execution_count": 33,
   "id": "95510061",
   "metadata": {},
   "outputs": [
    {
     "data": {
      "text/plain": [
       "(1265, 20, 1, 1)"
      ]
     },
     "execution_count": 33,
     "metadata": {},
     "output_type": "execute_result"
    }
   ],
   "source": [
    "%matplotlib inline\n",
    "import tensorflow as tf\n",
    "import numpy as np\n",
    "import matplotlib.pyplot as plt\n",
    "import pandas as pd\n",
    "from tensorflow.keras.models import Sequential\n",
    "from tensorflow.keras.layers import Dense, Flatten, Reshape, Dropout, Activation\n",
    "from tensorflow.keras.layers import Conv1D, MaxPooling1D\n",
    "from tensorflow.keras.optimizers import SGD\n",
    "from tensorflow.keras.optimizers import Adam\n",
    "from sklearn.model_selection import train_test_split\n",
    "from sklearn.preprocessing import MinMaxScaler\n",
    "import sklearn.metrics as skm\n",
    "df=pd.read_excel('512660.xls')\n",
    "df.head()\n",
    "#len(df)  out:1259\n",
    "x0 = df['收盘价(元)'].values\n",
    "x0=x0.reshape(len(x0),1)\n",
    "#plt.plot(x0[:100])\n",
    "x0.shape\n",
    "#len(x0)\n",
    "#取出x0中最大的数据 让所有的x0与这个最大的值做除法  得到的都是小于1的数据  便于训练神经网络\n",
    "# m = max(x0)\n",
    "# x0 = x0/m\n",
    "# x0[:10]\n",
    "# n = len(x0)\n",
    "scaler = MinMaxScaler(feature_range=(0, 1)).fit(x0)\n",
    "x0=pd.DataFrame(scaler.transform(x0))\n",
    "#用20天的数据去预测下一天的数据\n",
    "p = 20 \n",
    "x = np.array([x0[k:k+p] for k in range(n-p+1)])\n",
    "#1240笔数据 每个数据都包含20个数据\n",
    "x.shape\n",
    "y = np.array(x0[p:])\n",
    "y.shape\n",
    "X = x[:-1]\n",
    "X.shape\n",
    "X = X[:, :, np.newaxis]\n",
    "X.shape\n",
    "X_train, X_test, y_train, y_test = train_test_split(X, y, test_size=0.2, shuffle=True)\n",
    "X_train.shape\n"
   ]
  },
  {
   "cell_type": "code",
   "execution_count": 34,
   "id": "112043a9",
   "metadata": {},
   "outputs": [
    {
     "name": "stdout",
     "output_type": "stream",
     "text": [
      "Model: \"sequential_7\"\n",
      "_________________________________________________________________\n",
      " Layer (type)                Output Shape              Param #   \n",
      "=================================================================\n",
      " conv1d_7 (Conv1D)           (None, 20, 50)            250       \n",
      "                                                                 \n",
      " max_pooling1d_7 (MaxPooling  (None, 10, 50)           0         \n",
      " 1D)                                                             \n",
      "                                                                 \n",
      " flatten_7 (Flatten)         (None, 500)               0         \n",
      "                                                                 \n",
      " dense_14 (Dense)            (None, 20)                10020     \n",
      "                                                                 \n",
      " dropout_7 (Dropout)         (None, 20)                0         \n",
      "                                                                 \n",
      " activation_14 (Activation)  (None, 20)                0         \n",
      "                                                                 \n",
      " dense_15 (Dense)            (None, 1)                 21        \n",
      "                                                                 \n",
      " activation_15 (Activation)  (None, 1)                 0         \n",
      "                                                                 \n",
      "=================================================================\n",
      "Total params: 10,291\n",
      "Trainable params: 10,291\n",
      "Non-trainable params: 0\n",
      "_________________________________________________________________\n",
      "Epoch 1/50\n"
     ]
    },
    {
     "name": "stderr",
     "output_type": "stream",
     "text": [
      "/Users/hatakeihei/opt/anaconda3/lib/python3.9/site-packages/keras/optimizers/optimizer_v2/gradient_descent.py:108: UserWarning: The `lr` argument is deprecated, use `learning_rate` instead.\n",
      "  super(SGD, self).__init__(name, **kwargs)\n"
     ]
    },
    {
     "name": "stdout",
     "output_type": "stream",
     "text": [
      "40/40 [==============================] - 0s 1ms/step - loss: 0.0498\n",
      "Epoch 2/50\n",
      "40/40 [==============================] - 0s 1ms/step - loss: 0.0239\n",
      "Epoch 3/50\n",
      "40/40 [==============================] - 0s 1ms/step - loss: 0.0108\n",
      "Epoch 4/50\n",
      "40/40 [==============================] - 0s 1ms/step - loss: 0.0081\n",
      "Epoch 5/50\n",
      "40/40 [==============================] - 0s 1ms/step - loss: 0.0069\n",
      "Epoch 6/50\n",
      "40/40 [==============================] - 0s 2ms/step - loss: 0.0063\n",
      "Epoch 7/50\n",
      "40/40 [==============================] - 0s 1ms/step - loss: 0.0064\n",
      "Epoch 8/50\n",
      "40/40 [==============================] - 0s 1ms/step - loss: 0.0059\n",
      "Epoch 9/50\n",
      "40/40 [==============================] - 0s 2ms/step - loss: 0.0059\n",
      "Epoch 10/50\n",
      "40/40 [==============================] - 0s 1ms/step - loss: 0.0056\n",
      "Epoch 11/50\n",
      "40/40 [==============================] - 0s 1ms/step - loss: 0.0055\n",
      "Epoch 12/50\n",
      "40/40 [==============================] - 0s 1ms/step - loss: 0.0056\n",
      "Epoch 13/50\n",
      "40/40 [==============================] - 0s 1ms/step - loss: 0.0053\n",
      "Epoch 14/50\n",
      "40/40 [==============================] - 0s 1ms/step - loss: 0.0054\n",
      "Epoch 15/50\n",
      "40/40 [==============================] - 0s 1ms/step - loss: 0.0053\n",
      "Epoch 16/50\n",
      "40/40 [==============================] - 0s 1ms/step - loss: 0.0051\n",
      "Epoch 17/50\n",
      "40/40 [==============================] - 0s 1ms/step - loss: 0.0049\n",
      "Epoch 18/50\n",
      "40/40 [==============================] - 0s 1ms/step - loss: 0.0047\n",
      "Epoch 19/50\n",
      "40/40 [==============================] - 0s 2ms/step - loss: 0.0050\n",
      "Epoch 20/50\n",
      "40/40 [==============================] - 0s 1ms/step - loss: 0.0048\n",
      "Epoch 21/50\n",
      "40/40 [==============================] - 0s 1ms/step - loss: 0.0044\n",
      "Epoch 22/50\n",
      "40/40 [==============================] - 0s 1ms/step - loss: 0.0045\n",
      "Epoch 23/50\n",
      "40/40 [==============================] - 0s 1ms/step - loss: 0.0042\n",
      "Epoch 24/50\n",
      "40/40 [==============================] - 0s 1ms/step - loss: 0.0040\n",
      "Epoch 25/50\n",
      "40/40 [==============================] - 0s 1ms/step - loss: 0.0042\n",
      "Epoch 26/50\n",
      "40/40 [==============================] - 0s 1ms/step - loss: 0.0043\n",
      "Epoch 27/50\n",
      "40/40 [==============================] - 0s 1ms/step - loss: 0.0045\n",
      "Epoch 28/50\n",
      "40/40 [==============================] - 0s 1ms/step - loss: 0.0040\n",
      "Epoch 29/50\n",
      "40/40 [==============================] - 0s 1ms/step - loss: 0.0039\n",
      "Epoch 30/50\n",
      "40/40 [==============================] - 0s 1ms/step - loss: 0.0040\n",
      "Epoch 31/50\n",
      "40/40 [==============================] - 0s 1ms/step - loss: 0.0036\n",
      "Epoch 32/50\n",
      "40/40 [==============================] - 0s 1ms/step - loss: 0.0038\n",
      "Epoch 33/50\n",
      "40/40 [==============================] - 0s 1ms/step - loss: 0.0036\n",
      "Epoch 34/50\n",
      "40/40 [==============================] - 0s 1ms/step - loss: 0.0038\n",
      "Epoch 35/50\n",
      "40/40 [==============================] - 0s 1ms/step - loss: 0.0036\n",
      "Epoch 36/50\n",
      "40/40 [==============================] - 0s 1ms/step - loss: 0.0035\n",
      "Epoch 37/50\n",
      "40/40 [==============================] - 0s 1ms/step - loss: 0.0035\n",
      "Epoch 38/50\n",
      "40/40 [==============================] - 0s 1ms/step - loss: 0.0036\n",
      "Epoch 39/50\n",
      "40/40 [==============================] - 0s 1ms/step - loss: 0.0036\n",
      "Epoch 40/50\n",
      "40/40 [==============================] - 0s 1ms/step - loss: 0.0033\n",
      "Epoch 41/50\n",
      "40/40 [==============================] - 0s 1ms/step - loss: 0.0033\n",
      "Epoch 42/50\n",
      "40/40 [==============================] - 0s 1ms/step - loss: 0.0034\n",
      "Epoch 43/50\n",
      "40/40 [==============================] - 0s 1ms/step - loss: 0.0031\n",
      "Epoch 44/50\n",
      "40/40 [==============================] - 0s 1ms/step - loss: 0.0034\n",
      "Epoch 45/50\n",
      "40/40 [==============================] - 0s 2ms/step - loss: 0.0029\n",
      "Epoch 46/50\n",
      "40/40 [==============================] - 0s 1ms/step - loss: 0.0035\n",
      "Epoch 47/50\n",
      "40/40 [==============================] - 0s 1ms/step - loss: 0.0034\n",
      "Epoch 48/50\n",
      "40/40 [==============================] - 0s 1ms/step - loss: 0.0031\n",
      "Epoch 49/50\n",
      "40/40 [==============================] - 0s 1ms/step - loss: 0.0029\n",
      "Epoch 50/50\n",
      "40/40 [==============================] - 0s 1ms/step - loss: 0.0031\n",
      "10/10 [==============================] - 0s 767us/step\n"
     ]
    }
   ],
   "source": [
    "#模型搭建\n",
    "model = Sequential()\n",
    "model.add(Conv1D(50,4,padding='same',activation='relu',input_shape=(p,1)))#50个filter卷积核 大小4\n",
    "model.add(MaxPooling1D(2))#每两个取一个大的   数据会减少一半\n",
    "model.add(Flatten())#把二维数据变成一维的\n",
    " \n",
    "model.add(Dense(20))#20个神经元的全连接层\n",
    "model.add(Dropout(0.2))#防止过拟合 20%权重冻结\n",
    "model.add(Activation('relu'))\n",
    "model.add(Dense(1))#输出层 是一个一维的全连接神经网络\n",
    "model.add(Activation('sigmoid'))\n",
    " \n",
    "#model.compile(loss='mse',optimizer=SGD(lr=0.2), metrics['accuracy'])\n",
    "model.compile(loss='mse', optimizer=SGD(lr=0.2))\n",
    "model.summary()\n",
    "#模型训练\n",
    "model.fit(X_train,y_train,epochs=50,batch_size=32)\n",
    "\n",
    "#数据可视化\n",
    "y_predict = model.predict(X_test)\n",
    "  #模型学到的"
   ]
  },
  {
   "cell_type": "code",
   "execution_count": 35,
   "id": "a54b2163",
   "metadata": {},
   "outputs": [
    {
     "data": {
      "text/plain": [
       "[<matplotlib.lines.Line2D at 0x7faae64349a0>]"
      ]
     },
     "execution_count": 35,
     "metadata": {},
     "output_type": "execute_result"
    },
    {
     "data": {
      "image/png": "[encoded data removed]",
      "text/plain": [
       "<Figure size 432x288 with 1 Axes>"
      ]
     },
     "metadata": {
      "needs_background": "light"
     },
     "output_type": "display_data"
    }
   ],
   "source": [
    "y_predict=scaler.inverse_transform(y_predict)\n",
    "y_test=scaler.inverse_transform(y_test)\n",
    "#plt.plot(y_test)\n",
    "#plt.plot(y_predict,'r') \n",
    "plt.plot(y_test[:100])#取前一百个数据绘图  真实数据\n",
    "plt.plot(y_predict[:100],'r')  "
   ]
  },
  {
   "cell_type": "code",
   "execution_count": 37,
   "id": "452bba5c",
   "metadata": {},
   "outputs": [
    {
     "name": "stdout",
     "output_type": "stream",
     "text": [
      "MAPE:2.59%\n",
      "RMSE0.0359\n",
      "MSE0.0013\n"
     ]
    }
   ],
   "source": [
    "import sklearn.metrics as skm\n",
    "MAPE = skm.mean_absolute_percentage_error(y_test, y_predict)\n",
    "MSE = skm.mean_squared_error(y_test, y_predict)\n",
    "RMSE = skm.mean_squared_error(y_test,y_predict,squared=False)\n",
    "print(\"MAPE:\"+str(round(MAPE,4)*100)+\"%\")\n",
    "print(\"RMSE\"+str(round(RMSE,4)))\n",
    "print(\"MSE\"+str(round(MSE,4)))"
   ]
  },
  {
   "cell_type": "code",
   "execution_count": 38,
   "id": "47d9e636",
   "metadata": {},
   "outputs": [
    {
     "data": {
      "text/plain": [
       "317"
      ]
     },
     "execution_count": 38,
     "metadata": {},
     "output_type": "execute_result"
    }
   ],
   "source": [
    "len(y_test)"
   ]
  },
  {
   "cell_type": "code",
   "execution_count": null,
   "id": "5354bc5f",
   "metadata": {},
   "outputs": [],
   "source": []
  }
 ],
 "metadata": {
  "kernelspec": {
   "display_name": "Python 3 (ipykernel)",
   "language": "python",
   "name": "python3"
  },
  "language_info": {
   "codemirror_mode": {
    "name": "ipython",
    "version": 3
   },
   "file_extension": ".py",
   "mimetype": "text/x-python",
   "name": "python",
   "nbconvert_exporter": "python",
   "pygments_lexer": "ipython3",
   "version": "3.9.7"
  }
 },
 "nbformat": 4,
 "nbformat_minor": 5
}
